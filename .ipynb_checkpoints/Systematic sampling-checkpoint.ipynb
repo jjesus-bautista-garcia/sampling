{
 "cells": [
  {
   "cell_type": "code",
   "execution_count": 3,
   "id": "c6ba6bfb",
   "metadata": {},
   "outputs": [],
   "source": [
    "import pandas as pd\n",
    "import random"
   ]
  },
  {
   "cell_type": "code",
   "execution_count": 4,
   "id": "7e122c23",
   "metadata": {},
   "outputs": [],
   "source": [
    "data = {\n",
    "    'Player': ['John', 'Mike', 'David', 'Paul', 'Mark', 'Luke', 'Tom', 'Steve', 'Chris', 'Eric'],\n",
    "    'Height (cm)': [190, 185, 180, 195, 175, 182, 187, 193, 200, 178]\n",
    "}\n",
    "\n",
    "df = pd.DataFrame(data)"
   ]
  },
  {
   "cell_type": "code",
   "execution_count": 7,
   "id": "3f8a2f7e",
   "metadata": {},
   "outputs": [],
   "source": [
    "sample_size = 3\n",
    "sampling_interval = 2"
   ]
  },
  {
   "cell_type": "code",
   "execution_count": 8,
   "id": "ab6ac354",
   "metadata": {},
   "outputs": [],
   "source": [
    "ration = len(df) / sample_size"
   ]
  },
  {
   "cell_type": "code",
   "execution_count": 13,
   "id": "746c9fd6",
   "metadata": {},
   "outputs": [],
   "source": [
    "start_index = random.randint(0, sampling_interval)"
   ]
  },
  {
   "cell_type": "code",
   "execution_count": 14,
   "id": "0d5094d0",
   "metadata": {},
   "outputs": [
    {
     "data": {
      "text/plain": [
       "2"
      ]
     },
     "execution_count": 14,
     "metadata": {},
     "output_type": "execute_result"
    }
   ],
   "source": [
    "start_index"
   ]
  },
  {
   "cell_type": "code",
   "execution_count": 15,
   "id": "7a853912",
   "metadata": {},
   "outputs": [],
   "source": [
    "indices = list(range(start_index, len(df), sampling_interval))"
   ]
  },
  {
   "cell_type": "code",
   "execution_count": 16,
   "id": "8b3da827",
   "metadata": {},
   "outputs": [
    {
     "data": {
      "text/plain": [
       "[2, 4, 6, 8]"
      ]
     },
     "execution_count": 16,
     "metadata": {},
     "output_type": "execute_result"
    }
   ],
   "source": [
    "indices"
   ]
  },
  {
   "cell_type": "code",
   "execution_count": 17,
   "id": "4ab1f739",
   "metadata": {},
   "outputs": [],
   "source": [
    "systematic_sample_df = df.iloc[indices]"
   ]
  },
  {
   "cell_type": "code",
   "execution_count": 18,
   "id": "4752c5b4",
   "metadata": {},
   "outputs": [
    {
     "data": {
      "text/html": [
       "<div>\n",
       "<style scoped>\n",
       "    .dataframe tbody tr th:only-of-type {\n",
       "        vertical-align: middle;\n",
       "    }\n",
       "\n",
       "    .dataframe tbody tr th {\n",
       "        vertical-align: top;\n",
       "    }\n",
       "\n",
       "    .dataframe thead th {\n",
       "        text-align: right;\n",
       "    }\n",
       "</style>\n",
       "<table border=\"1\" class=\"dataframe\">\n",
       "  <thead>\n",
       "    <tr style=\"text-align: right;\">\n",
       "      <th></th>\n",
       "      <th>Player</th>\n",
       "      <th>Height (cm)</th>\n",
       "    </tr>\n",
       "  </thead>\n",
       "  <tbody>\n",
       "    <tr>\n",
       "      <th>2</th>\n",
       "      <td>David</td>\n",
       "      <td>180</td>\n",
       "    </tr>\n",
       "    <tr>\n",
       "      <th>4</th>\n",
       "      <td>Mark</td>\n",
       "      <td>175</td>\n",
       "    </tr>\n",
       "    <tr>\n",
       "      <th>6</th>\n",
       "      <td>Tom</td>\n",
       "      <td>187</td>\n",
       "    </tr>\n",
       "    <tr>\n",
       "      <th>8</th>\n",
       "      <td>Chris</td>\n",
       "      <td>200</td>\n",
       "    </tr>\n",
       "  </tbody>\n",
       "</table>\n",
       "</div>"
      ],
      "text/plain": [
       "  Player  Height (cm)\n",
       "2  David          180\n",
       "4   Mark          175\n",
       "6    Tom          187\n",
       "8  Chris          200"
      ]
     },
     "execution_count": 18,
     "metadata": {},
     "output_type": "execute_result"
    }
   ],
   "source": [
    "systematic_sample_df"
   ]
  },
  {
   "cell_type": "code",
   "execution_count": null,
   "id": "a5115d94",
   "metadata": {},
   "outputs": [],
   "source": []
  }
 ],
 "metadata": {
  "kernelspec": {
   "display_name": "Python 3 (ipykernel)",
   "language": "python",
   "name": "python3"
  },
  "language_info": {
   "codemirror_mode": {
    "name": "ipython",
    "version": 3
   },
   "file_extension": ".py",
   "mimetype": "text/x-python",
   "name": "python",
   "nbconvert_exporter": "python",
   "pygments_lexer": "ipython3",
   "version": "3.8.8"
  }
 },
 "nbformat": 4,
 "nbformat_minor": 5
}
